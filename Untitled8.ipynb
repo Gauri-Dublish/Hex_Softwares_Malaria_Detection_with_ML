{
  "nbformat": 4,
  "nbformat_minor": 0,
  "metadata": {
    "colab": {
      "provenance": []
    },
    "kernelspec": {
      "name": "python3",
      "display_name": "Python 3"
    },
    "language_info": {
      "name": "python"
    }
  },
  "cells": [
    {
      "cell_type": "code",
      "execution_count": 3,
      "metadata": {
        "colab": {
          "base_uri": "https://localhost:8080/"
        },
        "id": "1ro9oZI96fjH",
        "outputId": "1694fa2e-73f2-4840-af9d-ebb77a61f741"
      },
      "outputs": [
        {
          "output_type": "execute_result",
          "data": {
            "text/plain": [
              "-1"
            ]
          },
          "metadata": {},
          "execution_count": 3
        }
      ],
      "source": [
        "import cv2,os\n",
        "import numpy as np\n",
        "import csv\n",
        "import glob\n",
        "\n",
        "label = \"Parasitized\"\n",
        "dirList = glob.glob(\"cell_images/\"+label+\"/*.png\")\n",
        "file = open(\"/content/dataset (1).csv\",\"a\")\n",
        "\n",
        "for img_path in dirList:\n",
        "\n",
        "\tim = cv2.imread(img_path)\n",
        "\n",
        "\tim = cv2.GaussianBlur(im,(5,5),2)\n",
        "\n",
        "\n",
        "\n",
        "\tim_gray = cv2.cvtColor(im,cv2.COLOR_BGR2GRAY)\n",
        "\n",
        "\tret,thresh = cv2.threshold(im_gray,127,255,0)\n",
        "\tcontours,_ = cv2.findContours(thresh,1,2)\n",
        "\n",
        "\tfor contour in contours:\n",
        "\t\tcv2.drawContours(im_gray, contours, -1, (0,255,0), 3)\n",
        "\n",
        "\n",
        "\tcv2.imshow(\"window\",im_gray)\n",
        "\n",
        "\tbreak\n",
        "\n",
        "\n",
        "\tfile.write(label)\n",
        "\tfile.write(\",\")\n",
        "\n",
        "\tfor i in range(5):\n",
        "\t\ttry:\n",
        "\t\t\tarea = cv2.contourArea(contours[i])\n",
        "\t\t\tfile.write(str(area))\n",
        "\t\texcept:\n",
        "\t\t\tfile.write(\"0\")\n",
        "\n",
        "\t\tfile.write(\",\")\n",
        "\n",
        "\n",
        "\tfile.write(\"\\n\")\n",
        "\n",
        "\n",
        "cv2.waitKey(19000)"
      ]
    }
  ]
}